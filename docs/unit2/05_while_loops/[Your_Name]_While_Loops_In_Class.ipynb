{
  "nbformat": 4,
  "nbformat_minor": 0,
  "metadata": {
    "colab": {
      "provenance": [],
      "include_colab_link": true
    },
    "kernelspec": {
      "name": "python3",
      "display_name": "Python 3"
    },
    "language_info": {
      "name": "python"
    }
  },
  "cells": [
    {
      "cell_type": "markdown",
      "metadata": {
        "id": "view-in-github",
        "colab_type": "text"
      },
      "source": [
        "<a href=\"https://colab.research.google.com/github/moifernan26/CE_321_W25_Proj1/blob/master/docs/unit2/05_while_loops/%5BYour_Name%5D_While_Loops_In_Class.ipynb\" target=\"_parent\"><img src=\"https://colab.research.google.com/assets/colab-badge.svg\" alt=\"Open In Colab\"/></a>"
      ]
    },
    {
      "cell_type": "markdown",
      "source": [
        "#While Loop In-class\n",
        "## Follow the instructions in the work book\n"
      ],
      "metadata": {
        "id": "tvF4ptFyXXcP"
      }
    },
    {
      "cell_type": "markdown",
      "source": [
        "\n",
        "\n",
        "---\n",
        "\n",
        "\n",
        "**Code Block 1**\n",
        "\n",
        "Create a while loop that will count down from 5 and stop at 1. Have it print a statement at the end to tell that it has finished.\n",
        "\n",
        "\n",
        "---\n",
        "\n"
      ],
      "metadata": {
        "id": "2ybc1wEeXS_Z"
      }
    },
    {
      "cell_type": "code",
      "execution_count": null,
      "metadata": {
        "id": "GAuQylouW0JB"
      },
      "outputs": [],
      "source": []
    },
    {
      "cell_type": "markdown",
      "source": [
        "\n",
        "\n",
        "---\n",
        "**Code Block 2**\n",
        "\n",
        "\n",
        "1.   Copy your code from above and paste it below\n",
        "2.   Remove everything in your while loop but your print statement.\n",
        "3. Run your code - What is different this time?\n",
        "4. Add a comment next to the loop expalining why it will not stop.\n",
        "\n",
        "\n",
        "---\n",
        "\n",
        "\n"
      ],
      "metadata": {
        "id": "ygYAvS-FZUyD"
      }
    },
    {
      "cell_type": "code",
      "source": [],
      "metadata": {
        "collapsed": true,
        "id": "aIYhzvC1XR6L"
      },
      "execution_count": null,
      "outputs": []
    },
    {
      "cell_type": "markdown",
      "source": [
        "You can avoid infinite loops by:\n",
        "\n",
        "\n",
        "*   Adding a contraint to your variable to make the while comparison false\n",
        "\n"
      ],
      "metadata": {
        "id": "ZdtKmd4JlZWu"
      }
    },
    {
      "cell_type": "markdown",
      "source": [
        "\n",
        "\n",
        "---\n",
        "**Code Block 3**\n",
        "\n",
        "While loops can also stop with string statements.\n",
        "Write a while loop that promtps the user what countries they want to visit. Have it stop when the user inputes a certain value.\n",
        "\n",
        "\n",
        "---\n",
        "\n"
      ],
      "metadata": {
        "id": "ILCTLF07h8Qe"
      }
    },
    {
      "cell_type": "code",
      "source": [],
      "metadata": {
        "collapsed": true,
        "id": "YS-a4WjeicZC"
      },
      "execution_count": null,
      "outputs": []
    },
    {
      "cell_type": "markdown",
      "source": [
        "\n",
        "\n",
        "---\n",
        "**Code Block 4**\n",
        "\n",
        "\n",
        "You can use While loops to move items from one list to another\n",
        "\n",
        "1. Write a while loop that will take out all of the items in the \"To_do\" list and add them to the \"Done\" list.\n",
        "2. Print out your new \"Done\" list\n",
        "\n",
        "\n",
        "---\n",
        "\n"
      ],
      "metadata": {
        "id": "CHruNBA8xypb"
      }
    },
    {
      "cell_type": "code",
      "source": [
        "To_do = [\"Complete Python project\", \"Homework\" ,\"Grocery shopping\", \"Reply to emails\", \"Exercise for 30 minutes\", \"Prepare dinner\", \"Read a book\"]\n",
        "Done = []"
      ],
      "metadata": {
        "id": "EYGU8etNkrbR",
        "collapsed": true
      },
      "execution_count": null,
      "outputs": []
    },
    {
      "cell_type": "markdown",
      "source": [
        "---\n",
        "**Code Block 5**\n",
        "\n",
        "\n",
        "You can also take out all instances of a specific value from a list.\n",
        "1. Copy your 'To_do' list from above and paste it into the code block below.\n",
        "2. Copy the item \"Homework\" in the list and add it 3 more times into the same list.\n",
        "3. Write a while loop that will remove all instances of \"Homework\" from your list.\n",
        "4. Print out your updated 'To_do' list.\n",
        "\n",
        "\n",
        "---\n",
        "\n",
        "\n",
        "\n"
      ],
      "metadata": {
        "id": "12Ko9_FFzJTl"
      }
    },
    {
      "cell_type": "code",
      "source": [],
      "metadata": {
        "id": "-QxSZLfizJh8"
      },
      "execution_count": null,
      "outputs": []
    },
    {
      "cell_type": "markdown",
      "source": [
        "---\n",
        "**Code Block 6**\n",
        "\n",
        "\n",
        "While loops are useful when updating information in a dictionary.\n",
        "1. Copy your code from code block 3 and paste it beneath the dictionary called \"moutntains\" below.\n",
        "2. Change your print statement to ask the user if they'd like to either update/add to the list of countries and mountians.\n",
        "3. Ask the user the country name\n",
        "4. Ask the user for the mountian name\n",
        "5. Save those values into the dictionary\n",
        "6. Print out your updated dictionary\n",
        "\n",
        "\n",
        "---"
      ],
      "metadata": {
        "id": "1KWqX6kjHEEe"
      }
    },
    {
      "cell_type": "code",
      "source": [
        "mountains = {\n",
        "    \"Nepal\": \"Mount Everest\",\n",
        "    \"Japan\": \"Mount Fuji\",\n",
        "    \"United States\": \"Denali\",\n",
        "    \"New Zealand\": \"Mount Cook\",\n",
        "    \"Switzerland\": \"Matterhorn\",\n",
        "    \"Italy\": \"Mount Etna\"\n",
        "}"
      ],
      "metadata": {
        "collapsed": true,
        "id": "XYc8LuZtGnvh"
      },
      "execution_count": null,
      "outputs": []
    },
    {
      "cell_type": "markdown",
      "source": [
        "\n",
        "\n",
        "---\n",
        "\n",
        "\n",
        "**Code Block 7 - Try it yourself!!**\n",
        "\n",
        "Create your own while loop that includes user input and and will stop when the user inputs a certain value.\n",
        "\n",
        "\n",
        "---\n",
        "\n"
      ],
      "metadata": {
        "id": "kXQiA_dkSWco"
      }
    },
    {
      "cell_type": "code",
      "source": [],
      "metadata": {
        "id": "vtYulkSwSWFP"
      },
      "execution_count": null,
      "outputs": []
    },
    {
      "cell_type": "markdown",
      "source": [
        "**Code Block 8**\n",
        "Creating a form.\n",
        "\n",
        "When creating a form you will select the code box and select the three dots on the right. From there you will select 'add a form',\n",
        "after it has created a form you will go back and select form and add a form field. From there we just want to create an input.\n",
        "\n",
        "\n"
      ],
      "metadata": {
        "id": "lhbkoz81q3Bi"
      }
    },
    {
      "cell_type": "code",
      "source": [
        "# @title Default title text\n",
        "test = \"2\" # @param {\"type\":\"string\"}\n",
        "print(test)\n"
      ],
      "metadata": {
        "id": "RBv0ZVCTsbBX",
        "outputId": "c970ccdf-949b-44ba-aa6e-425b84d5c8b0",
        "colab": {
          "base_uri": "https://localhost:8080/"
        }
      },
      "execution_count": 3,
      "outputs": [
        {
          "output_type": "stream",
          "name": "stdout",
          "text": [
            "2\n"
          ]
        }
      ]
    },
    {
      "cell_type": "markdown",
      "source": [
        "**Code Block 9** Creating a dropdown\n",
        "\n",
        "We will go back to the more cell action and create another from and select dropdown instead of input.\n"
      ],
      "metadata": {
        "id": "eYxoiOFZsIC5"
      }
    },
    {
      "cell_type": "code",
      "source": [
        "# @title Default title text\n",
        "test_TA = \"Brandan \" # @param [\"Christian\",\"Kori\",\"Brandan \"]\n",
        "print(test_TA)\n"
      ],
      "metadata": {
        "id": "GlaBybh0sR48",
        "outputId": "63bd4d72-65ba-4b2c-ca11-c83256b6f402",
        "colab": {
          "base_uri": "https://localhost:8080/"
        }
      },
      "execution_count": 5,
      "outputs": [
        {
          "output_type": "stream",
          "name": "stdout",
          "text": [
            "Brandan \n"
          ]
        }
      ]
    },
    {
      "cell_type": "markdown",
      "source": [
        "**Code Block 10** Creating a slider\n",
        "\n",
        "We will create another from and select slider this time.\n",
        "\n",
        "\n",
        "This is helpful when you want an interactive visualizations, parameter tuning, and exploratory data analysis."
      ],
      "metadata": {
        "id": "w7V2B5NxvjUl"
      }
    },
    {
      "cell_type": "code",
      "source": [
        "# @title Default title text\n",
        "x = 41 # @param {\"type\":\"slider\",\"min\":0,\"max\":100,\"step\":1}\n",
        "ans = x + 250\n",
        "print(ans)"
      ],
      "metadata": {
        "id": "Cfu0Q-9wvtNC",
        "outputId": "0c9fee0a-fb12-442e-95fb-40e25d632429",
        "colab": {
          "base_uri": "https://localhost:8080/"
        }
      },
      "execution_count": 8,
      "outputs": [
        {
          "output_type": "stream",
          "name": "stdout",
          "text": [
            "291\n"
          ]
        }
      ]
    },
    {
      "cell_type": "markdown",
      "source": [
        "\n",
        "\n",
        "---\n",
        "\n",
        "\n",
        "### Here some fun examples of while loops!\n",
        "\n",
        "This example below uses a MOD operator to solve for all of the prime factors of any positive integer.\n",
        "\n",
        "Run the cell and try inputing your own number!\n",
        "\n",
        "\n",
        "---\n",
        "\n",
        "\n"
      ],
      "metadata": {
        "id": "YPOwB7aZJJon"
      }
    },
    {
      "cell_type": "code",
      "source": [
        "number = int(input(\"Enter a positive number: \"))\n",
        "def primeFactorsCalc(n):\n",
        "  primeFactors = []\n",
        "  i=2\n",
        "  while i <= (n):\n",
        "    if n % i == 0: # % is called a MOD operator. It will return the remainder of the division between 2 numbers.\n",
        "      primeFactors.append(i)\n",
        "      #divide number by prime factor. An example of what we are looking for is\n",
        "      # the prime factors of 12 are 2,2,3.\n",
        "      #the prime factors of 8 are 2,2,2\n",
        "      n=n/i\n",
        "      i=2  #reset i\n",
        "    else:\n",
        "      i+=1\n",
        "  print(f\"{primeFactors} are the prime factors of {number}\")\n",
        "primeFactorsCalc(number)"
      ],
      "metadata": {
        "id": "-f143X8VJH10",
        "collapsed": true
      },
      "execution_count": null,
      "outputs": []
    },
    {
      "cell_type": "markdown",
      "source": [
        "This is a fun little game using while loops. It will keep running until the correct number is guessed."
      ],
      "metadata": {
        "id": "kyazy1inUeSl"
      }
    },
    {
      "cell_type": "code",
      "source": [
        "#while loops make it so we can iterate over the same piece of code multiple times\n",
        "import random\n",
        "#let's look at this in the context of a game\n",
        "\n",
        "number=random.randrange(1,101)\n",
        "guess=-1\n",
        "tries=0\n",
        "while guess != number:\n",
        "  guess=int(input(\"Guess a number between 1 and 100: \"))\n",
        "  if guess < number:\n",
        "    print(\"You guessed too low. Guess again\")\n",
        "    tries+=1\n",
        "  elif guess > number:\n",
        "    print(\"You guessed too high. Guess again.\")\n",
        "    tries+=1\n",
        "  else:\n",
        "    tries+=1\n",
        "    print(f\"You got it! My number was {number}. \\t It took you {tries} tries\")"
      ],
      "metadata": {
        "id": "wnjx8aPfUGXw"
      },
      "execution_count": null,
      "outputs": []
    }
  ]
}